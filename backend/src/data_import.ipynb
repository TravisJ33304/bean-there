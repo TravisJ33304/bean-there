{
 "cells": [
  {
   "cell_type": "markdown",
   "id": "8a5e0d8b",
   "metadata": {},
   "source": [
    "# Databases Final Data Import\n",
    "\n",
    "The purpose of this notebook is to import final project data into MongoDB."
   ]
  },
  {
   "cell_type": "code",
   "execution_count": 14,
   "id": "9de5d7de",
   "metadata": {},
   "outputs": [],
   "source": [
    "import pandas as pd\n",
    "from pymongo import MongoClient\n",
    "from dotenv import dotenv_values\n",
    "import numpy as np\n",
    "import random\n",
    "from bson import ObjectId"
   ]
  },
  {
   "cell_type": "code",
   "execution_count": 3,
   "id": "17925e4a",
   "metadata": {},
   "outputs": [
    {
     "data": {
      "application/vnd.microsoft.datawrangler.viewer.v0+json": {
       "columns": [
        {
         "name": "index",
         "rawType": "int64",
         "type": "integer"
        },
        {
         "name": "coffee_shop_name",
         "rawType": "object",
         "type": "string"
        },
        {
         "name": "review_text",
         "rawType": "object",
         "type": "string"
        },
        {
         "name": "rating",
         "rawType": "object",
         "type": "string"
        },
        {
         "name": "num_rating",
         "rawType": "float64",
         "type": "float"
        },
        {
         "name": "cat_rating",
         "rawType": "object",
         "type": "string"
        },
        {
         "name": "bool_HIGH",
         "rawType": "float64",
         "type": "float"
        },
        {
         "name": "overall_sent",
         "rawType": "float64",
         "type": "float"
        },
        {
         "name": "vibe_sent",
         "rawType": "object",
         "type": "string"
        },
        {
         "name": "tea_sent",
         "rawType": "float64",
         "type": "float"
        },
        {
         "name": "service_sent",
         "rawType": "float64",
         "type": "float"
        },
        {
         "name": "seating_sent",
         "rawType": "float64",
         "type": "float"
        },
        {
         "name": "price_sent",
         "rawType": "float64",
         "type": "float"
        },
        {
         "name": "parking_sent",
         "rawType": "object",
         "type": "string"
        },
        {
         "name": "location_sent",
         "rawType": "float64",
         "type": "float"
        },
        {
         "name": "alcohol_sent",
         "rawType": "float64",
         "type": "float"
        },
        {
         "name": "coffee_sent",
         "rawType": "object",
         "type": "string"
        },
        {
         "name": "food_sent",
         "rawType": "object",
         "type": "string"
        },
        {
         "name": "hours_sent",
         "rawType": "float64",
         "type": "float"
        },
        {
         "name": "internet_sent",
         "rawType": "float64",
         "type": "float"
        },
        {
         "name": "local_sent",
         "rawType": "float64",
         "type": "float"
        }
       ],
       "conversionMethod": "pd.DataFrame",
       "ref": "4b6be296-adc9-4321-828e-b4db0847c308",
       "rows": [
        [
         "0",
         "The Factory - Cafe With a Soul ",
         " 11/25/2016 1 check-in Love love loved the vibe! Every corner of the coffee shop had its own style, and there were swings!!! I ordered the matcha coffee, and it was muy fantastico! Ordering and getting my drink were pretty streamlined. I ordered on an iPad, which included all beverage selections that ranged from coffee to alcohol, desired level of sweetness, and a checkout system. I got my coffee within minutes!  I was hoping for a typical heart or feather on my coffee, but found myself listing out all the possibilities of what the vibe may be. Any ideas? ",
         " 5.0 star rating ",
         "5.0",
         "HIGH",
         "1.0",
         "4.0",
         "3",
         "0.0",
         "0.0",
         "0.0",
         "0.0",
         "0",
         "0.0",
         "1.0",
         "3",
         "0",
         "0.0",
         "0.0",
         "0.0"
        ],
        [
         "1",
         "The Factory - Cafe With a Soul ",
         " 12/2/2016 Listed in Date Night: Austin, vibe in Austin BEAUTIFUL!!!! Love the vibe! Instagram-worthy!!!  Definitely $$$, so be prepared. This is gonna cost you a pretty penny :) food food was just decent...nothing to rave about.  But, will probably be back just to be somewhere unique and nice. ",
         " 4.0 star rating ",
         "4.0",
         "HIGH",
         "1.0",
         "3.0",
         "3",
         "0.0",
         "0.0",
         "0.0",
         "0.0",
         "0",
         "0.0",
         "0.0",
         "0",
         "2",
         "0.0",
         "0.0",
         "0.0"
        ],
        [
         "2",
         "The Factory - Cafe With a Soul ",
         " 11/30/2016 1 check-in Listed in food seating I loved the eclectic and homey plush vibe and who doesn't want to swing and drink their coffee?  I would categorize this as a pricier coffee place but, to me it was worth it.  After Thanksgiving nobody wants to make food so we headed out in search of food and foods.  There is ample parking in the private lot and  ordering is done through I-Pads.  Pick a seating and they will call your name when your items are ready.  Be patient because some of the coffee drinks take longer than others.  I had the cold coffee coffee, food and foods and we shared a pop+art!  The po+art was strawberry; light and fluffy on the outside and gooey sweet filling on the inside.  The food and foods wasn't the standard so expect different, complex and interesting flavors from the accompanying slaw and sauce.  I thoroughly enjoyed it but, the food was a bit bland and maybe could have used a bit of honey to spruce it up.  The coffee here is spot on and I hear that their hot chocolate is the bomb but, I will have to wait for the weather to cool off to try that.  A great place to be vibe and chat with your friends, a date or read a book. food and foods Pop tart Coffee See all photos from parkingmela S. for The Factory - Cafe With a Soul ",
         " 4.0 star rating ",
         "4.0",
         "HIGH",
         "1.0",
         "2.0",
         "2",
         "0.0",
         "0.0",
         "3.0",
         "0.0",
         "0",
         "0.0",
         "0.0",
         "-1",
         "2",
         "0.0",
         "0.0",
         "0.0"
        ],
        [
         "3",
         "The Factory - Cafe With a Soul ",
         " 11/25/2016 Very cool vibe! Good drinks Nice seating  However...  Just about everything is bad price. $1.50 extra for 3 ounces of Almond Milk in a coffee. No WiFi vibe is a bit loud and the mix is odd.  Pleasant French oldies followed by loud techno. Several seatings were dirty when we got there. Service is average.  It feels like a Los Angeles coffee shot that is out of place. ",
         " 2.0 star rating ",
         "2.0",
         "LOW",
         "0.0",
         "1.0",
         "0",
         "0.0",
         "0.0",
         "-1.0",
         "-1.0",
         "0",
         "0.0",
         "0.0",
         "0",
         "0",
         "0.0",
         "0.0",
         "0.0"
        ],
        [
         "4",
         "The Factory - Cafe With a Soul ",
         " 12/3/2016 1 check-in They are location within the Northcross mall shopping center facing east toward Burnet Rd with plenty of parking. I loved their computerized user friendly ordering system, it made it easy me to pick & choose all the items I wanted to try. I ordered pop tart, food & foods, strawberry foods (photos uploaded). This place is ideal for ordering a few dishes to share with your group. seatinging is limited since this place is fairly new with lots of visitors. Arrive early and be prepared to wait a bit if you with a large grop. Store front facing Burnet Rd See all photos from Michelle A. for The Factory - Cafe With a Soul ",
         " 4.0 star rating ",
         "4.0",
         "HIGH",
         "1.0",
         "2.0",
         "0",
         "0.0",
         "0.0",
         "0.0",
         "0.0",
         "3",
         "0.0",
         "0.0",
         "0",
         "0",
         "0.0",
         "0.0",
         "0.0"
        ]
       ],
       "shape": {
        "columns": 20,
        "rows": 5
       }
      },
      "text/html": [
       "<div>\n",
       "<style scoped>\n",
       "    .dataframe tbody tr th:only-of-type {\n",
       "        vertical-align: middle;\n",
       "    }\n",
       "\n",
       "    .dataframe tbody tr th {\n",
       "        vertical-align: top;\n",
       "    }\n",
       "\n",
       "    .dataframe thead th {\n",
       "        text-align: right;\n",
       "    }\n",
       "</style>\n",
       "<table border=\"1\" class=\"dataframe\">\n",
       "  <thead>\n",
       "    <tr style=\"text-align: right;\">\n",
       "      <th></th>\n",
       "      <th>coffee_shop_name</th>\n",
       "      <th>review_text</th>\n",
       "      <th>rating</th>\n",
       "      <th>num_rating</th>\n",
       "      <th>cat_rating</th>\n",
       "      <th>bool_HIGH</th>\n",
       "      <th>overall_sent</th>\n",
       "      <th>vibe_sent</th>\n",
       "      <th>tea_sent</th>\n",
       "      <th>service_sent</th>\n",
       "      <th>seating_sent</th>\n",
       "      <th>price_sent</th>\n",
       "      <th>parking_sent</th>\n",
       "      <th>location_sent</th>\n",
       "      <th>alcohol_sent</th>\n",
       "      <th>coffee_sent</th>\n",
       "      <th>food_sent</th>\n",
       "      <th>hours_sent</th>\n",
       "      <th>internet_sent</th>\n",
       "      <th>local_sent</th>\n",
       "    </tr>\n",
       "  </thead>\n",
       "  <tbody>\n",
       "    <tr>\n",
       "      <th>0</th>\n",
       "      <td>The Factory - Cafe With a Soul</td>\n",
       "      <td>11/25/2016 1 check-in Love love loved the vib...</td>\n",
       "      <td>5.0 star rating</td>\n",
       "      <td>5.0</td>\n",
       "      <td>HIGH</td>\n",
       "      <td>1.0</td>\n",
       "      <td>4.0</td>\n",
       "      <td>3</td>\n",
       "      <td>0.0</td>\n",
       "      <td>0.0</td>\n",
       "      <td>0.0</td>\n",
       "      <td>0.0</td>\n",
       "      <td>0</td>\n",
       "      <td>0.0</td>\n",
       "      <td>1.0</td>\n",
       "      <td>3</td>\n",
       "      <td>0</td>\n",
       "      <td>0.0</td>\n",
       "      <td>0.0</td>\n",
       "      <td>0.0</td>\n",
       "    </tr>\n",
       "    <tr>\n",
       "      <th>1</th>\n",
       "      <td>The Factory - Cafe With a Soul</td>\n",
       "      <td>12/2/2016 Listed in Date Night: Austin, vibe ...</td>\n",
       "      <td>4.0 star rating</td>\n",
       "      <td>4.0</td>\n",
       "      <td>HIGH</td>\n",
       "      <td>1.0</td>\n",
       "      <td>3.0</td>\n",
       "      <td>3</td>\n",
       "      <td>0.0</td>\n",
       "      <td>0.0</td>\n",
       "      <td>0.0</td>\n",
       "      <td>0.0</td>\n",
       "      <td>0</td>\n",
       "      <td>0.0</td>\n",
       "      <td>0.0</td>\n",
       "      <td>0</td>\n",
       "      <td>2</td>\n",
       "      <td>0.0</td>\n",
       "      <td>0.0</td>\n",
       "      <td>0.0</td>\n",
       "    </tr>\n",
       "    <tr>\n",
       "      <th>2</th>\n",
       "      <td>The Factory - Cafe With a Soul</td>\n",
       "      <td>11/30/2016 1 check-in Listed in food seating ...</td>\n",
       "      <td>4.0 star rating</td>\n",
       "      <td>4.0</td>\n",
       "      <td>HIGH</td>\n",
       "      <td>1.0</td>\n",
       "      <td>2.0</td>\n",
       "      <td>2</td>\n",
       "      <td>0.0</td>\n",
       "      <td>0.0</td>\n",
       "      <td>3.0</td>\n",
       "      <td>0.0</td>\n",
       "      <td>0</td>\n",
       "      <td>0.0</td>\n",
       "      <td>0.0</td>\n",
       "      <td>-1</td>\n",
       "      <td>2</td>\n",
       "      <td>0.0</td>\n",
       "      <td>0.0</td>\n",
       "      <td>0.0</td>\n",
       "    </tr>\n",
       "    <tr>\n",
       "      <th>3</th>\n",
       "      <td>The Factory - Cafe With a Soul</td>\n",
       "      <td>11/25/2016 Very cool vibe! Good drinks Nice s...</td>\n",
       "      <td>2.0 star rating</td>\n",
       "      <td>2.0</td>\n",
       "      <td>LOW</td>\n",
       "      <td>0.0</td>\n",
       "      <td>1.0</td>\n",
       "      <td>0</td>\n",
       "      <td>0.0</td>\n",
       "      <td>0.0</td>\n",
       "      <td>-1.0</td>\n",
       "      <td>-1.0</td>\n",
       "      <td>0</td>\n",
       "      <td>0.0</td>\n",
       "      <td>0.0</td>\n",
       "      <td>0</td>\n",
       "      <td>0</td>\n",
       "      <td>0.0</td>\n",
       "      <td>0.0</td>\n",
       "      <td>0.0</td>\n",
       "    </tr>\n",
       "    <tr>\n",
       "      <th>4</th>\n",
       "      <td>The Factory - Cafe With a Soul</td>\n",
       "      <td>12/3/2016 1 check-in They are location within...</td>\n",
       "      <td>4.0 star rating</td>\n",
       "      <td>4.0</td>\n",
       "      <td>HIGH</td>\n",
       "      <td>1.0</td>\n",
       "      <td>2.0</td>\n",
       "      <td>0</td>\n",
       "      <td>0.0</td>\n",
       "      <td>0.0</td>\n",
       "      <td>0.0</td>\n",
       "      <td>0.0</td>\n",
       "      <td>3</td>\n",
       "      <td>0.0</td>\n",
       "      <td>0.0</td>\n",
       "      <td>0</td>\n",
       "      <td>0</td>\n",
       "      <td>0.0</td>\n",
       "      <td>0.0</td>\n",
       "      <td>0.0</td>\n",
       "    </tr>\n",
       "  </tbody>\n",
       "</table>\n",
       "</div>"
      ],
      "text/plain": [
       "                  coffee_shop_name  \\\n",
       "0  The Factory - Cafe With a Soul    \n",
       "1  The Factory - Cafe With a Soul    \n",
       "2  The Factory - Cafe With a Soul    \n",
       "3  The Factory - Cafe With a Soul    \n",
       "4  The Factory - Cafe With a Soul    \n",
       "\n",
       "                                         review_text             rating  \\\n",
       "0   11/25/2016 1 check-in Love love loved the vib...   5.0 star rating    \n",
       "1   12/2/2016 Listed in Date Night: Austin, vibe ...   4.0 star rating    \n",
       "2   11/30/2016 1 check-in Listed in food seating ...   4.0 star rating    \n",
       "3   11/25/2016 Very cool vibe! Good drinks Nice s...   2.0 star rating    \n",
       "4   12/3/2016 1 check-in They are location within...   4.0 star rating    \n",
       "\n",
       "   num_rating cat_rating  bool_HIGH  overall_sent vibe_sent  tea_sent  \\\n",
       "0         5.0       HIGH        1.0           4.0         3       0.0   \n",
       "1         4.0       HIGH        1.0           3.0         3       0.0   \n",
       "2         4.0       HIGH        1.0           2.0         2       0.0   \n",
       "3         2.0        LOW        0.0           1.0         0       0.0   \n",
       "4         4.0       HIGH        1.0           2.0         0       0.0   \n",
       "\n",
       "   service_sent  seating_sent  price_sent parking_sent  location_sent  \\\n",
       "0           0.0           0.0         0.0            0            0.0   \n",
       "1           0.0           0.0         0.0            0            0.0   \n",
       "2           0.0           3.0         0.0            0            0.0   \n",
       "3           0.0          -1.0        -1.0            0            0.0   \n",
       "4           0.0           0.0         0.0            3            0.0   \n",
       "\n",
       "   alcohol_sent coffee_sent food_sent  hours_sent  internet_sent  local_sent  \n",
       "0           1.0           3         0         0.0            0.0         0.0  \n",
       "1           0.0           0         2         0.0            0.0         0.0  \n",
       "2           0.0          -1         2         0.0            0.0         0.0  \n",
       "3           0.0           0         0         0.0            0.0         0.0  \n",
       "4           0.0           0         0         0.0            0.0         0.0  "
      ]
     },
     "execution_count": 3,
     "metadata": {},
     "output_type": "execute_result"
    }
   ],
   "source": [
    "df = pd.read_csv('../../data/ratings_and_sentiments.csv', encoding='ISO-8859-1')\n",
    "\n",
    "df.head()"
   ]
  },
  {
   "cell_type": "code",
   "execution_count": 4,
   "id": "6f1d9eec",
   "metadata": {},
   "outputs": [
    {
     "data": {
      "text/plain": [
       "coffee_shop_name       5\n",
       "review_text            5\n",
       "rating                 5\n",
       "num_rating             5\n",
       "cat_rating             5\n",
       "bool_HIGH              5\n",
       "overall_sent           5\n",
       "vibe_sent           3114\n",
       "tea_sent               5\n",
       "service_sent           5\n",
       "seating_sent           5\n",
       "price_sent             5\n",
       "parking_sent           5\n",
       "location_sent          5\n",
       "alcohol_sent           5\n",
       "coffee_sent            5\n",
       "food_sent              5\n",
       "hours_sent             6\n",
       "internet_sent          5\n",
       "local_sent             5\n",
       "dtype: int64"
      ]
     },
     "execution_count": 4,
     "metadata": {},
     "output_type": "execute_result"
    }
   ],
   "source": [
    "df.isna().sum()"
   ]
  },
  {
   "cell_type": "code",
   "execution_count": 5,
   "id": "65c4ce94",
   "metadata": {},
   "outputs": [],
   "source": [
    "# show the number of na values in each column\n",
    "df.isna().sum()\n",
    "\n",
    "# drop rows with no coffee_shop_name\n",
    "df = df.dropna(subset=['coffee_shop_name'])\n",
    "\n",
    "# drop rows with no review_text\n",
    "df = df.dropna(subset=['review_text'])\n",
    "\n",
    "# drop rows with no rating\n",
    "df = df.dropna(subset=['num_rating'])"
   ]
  },
  {
   "cell_type": "code",
   "execution_count": 6,
   "id": "968b7a4b",
   "metadata": {},
   "outputs": [
    {
     "data": {
      "text/plain": [
       "coffee_shop_name       0\n",
       "review_text            0\n",
       "rating                 0\n",
       "num_rating             0\n",
       "cat_rating             0\n",
       "bool_HIGH              0\n",
       "overall_sent           0\n",
       "vibe_sent           3109\n",
       "tea_sent               0\n",
       "service_sent           0\n",
       "seating_sent           0\n",
       "price_sent             0\n",
       "parking_sent           0\n",
       "location_sent          0\n",
       "alcohol_sent           0\n",
       "coffee_sent            0\n",
       "food_sent              0\n",
       "hours_sent             1\n",
       "internet_sent          0\n",
       "local_sent             0\n",
       "dtype: int64"
      ]
     },
     "execution_count": 6,
     "metadata": {},
     "output_type": "execute_result"
    }
   ],
   "source": [
    "df.isna().sum()"
   ]
  },
  {
   "cell_type": "code",
   "execution_count": 7,
   "id": "1846a4fb",
   "metadata": {},
   "outputs": [
    {
     "data": {
      "text/plain": [
       "coffee_shop_name      78\n",
       "review_text         6915\n",
       "rating                 5\n",
       "num_rating             5\n",
       "cat_rating             2\n",
       "bool_HIGH              2\n",
       "overall_sent           9\n",
       "vibe_sent              9\n",
       "tea_sent               8\n",
       "service_sent           9\n",
       "seating_sent           8\n",
       "price_sent             7\n",
       "parking_sent           9\n",
       "location_sent          9\n",
       "alcohol_sent           7\n",
       "coffee_sent            9\n",
       "food_sent              9\n",
       "hours_sent             7\n",
       "internet_sent          7\n",
       "local_sent             6\n",
       "dtype: int64"
      ]
     },
     "execution_count": 7,
     "metadata": {},
     "output_type": "execute_result"
    }
   ],
   "source": [
    "# list the number of unique values in each column\n",
    "df.nunique()"
   ]
  },
  {
   "cell_type": "code",
   "execution_count": 8,
   "id": "97e67ca1",
   "metadata": {},
   "outputs": [
    {
     "name": "stderr",
     "output_type": "stream",
     "text": [
      "C:\\Users\\jankowskitb\\AppData\\Local\\Temp\\ipykernel_7024\\766521197.py:4: SettingWithCopyWarning: \n",
      "A value is trying to be set on a copy of a slice from a DataFrame.\n",
      "Try using .loc[row_indexer,col_indexer] = value instead\n",
      "\n",
      "See the caveats in the documentation: https://pandas.pydata.org/pandas-docs/stable/user_guide/indexing.html#returning-a-view-versus-a-copy\n",
      "  reviews['coffee_shop_name'] = reviews['coffee_shop_name'].str.strip()\n",
      "C:\\Users\\jankowskitb\\AppData\\Local\\Temp\\ipykernel_7024\\766521197.py:5: SettingWithCopyWarning: \n",
      "A value is trying to be set on a copy of a slice from a DataFrame.\n",
      "Try using .loc[row_indexer,col_indexer] = value instead\n",
      "\n",
      "See the caveats in the documentation: https://pandas.pydata.org/pandas-docs/stable/user_guide/indexing.html#returning-a-view-versus-a-copy\n",
      "  reviews['review_text'] = reviews['review_text'].str.strip()\n",
      "C:\\Users\\jankowskitb\\AppData\\Local\\Temp\\ipykernel_7024\\766521197.py:7: SettingWithCopyWarning: \n",
      "A value is trying to be set on a copy of a slice from a DataFrame.\n",
      "Try using .loc[row_indexer,col_indexer] = value instead\n",
      "\n",
      "See the caveats in the documentation: https://pandas.pydata.org/pandas-docs/stable/user_guide/indexing.html#returning-a-view-versus-a-copy\n",
      "  reviews['num_rating'] = reviews['num_rating'].astype(float)\n"
     ]
    },
    {
     "data": {
      "application/vnd.microsoft.datawrangler.viewer.v0+json": {
       "columns": [
        {
         "name": "index",
         "rawType": "int64",
         "type": "integer"
        },
        {
         "name": "coffee_shop_name",
         "rawType": "object",
         "type": "string"
        },
        {
         "name": "review_text",
         "rawType": "object",
         "type": "string"
        },
        {
         "name": "num_rating",
         "rawType": "float64",
         "type": "float"
        }
       ],
       "conversionMethod": "pd.DataFrame",
       "ref": "8e90c3bb-1d8b-47e7-954f-34b8064e1d62",
       "rows": [
        [
         "0",
         "The Factory - Cafe With a Soul",
         "11/25/2016 1 check-in Love love loved the vibe! Every corner of the coffee shop had its own style, and there were swings!!! I ordered the matcha coffee, and it was muy fantastico! Ordering and getting my drink were pretty streamlined. I ordered on an iPad, which included all beverage selections that ranged from coffee to alcohol, desired level of sweetness, and a checkout system. I got my coffee within minutes!  I was hoping for a typical heart or feather on my coffee, but found myself listing out all the possibilities of what the vibe may be. Any ideas?",
         "5.0"
        ],
        [
         "1",
         "The Factory - Cafe With a Soul",
         "12/2/2016 Listed in Date Night: Austin, vibe in Austin BEAUTIFUL!!!! Love the vibe! Instagram-worthy!!!  Definitely $$$, so be prepared. This is gonna cost you a pretty penny :) food food was just decent...nothing to rave about.  But, will probably be back just to be somewhere unique and nice.",
         "4.0"
        ],
        [
         "2",
         "The Factory - Cafe With a Soul",
         "11/30/2016 1 check-in Listed in food seating I loved the eclectic and homey plush vibe and who doesn't want to swing and drink their coffee?  I would categorize this as a pricier coffee place but, to me it was worth it.  After Thanksgiving nobody wants to make food so we headed out in search of food and foods.  There is ample parking in the private lot and  ordering is done through I-Pads.  Pick a seating and they will call your name when your items are ready.  Be patient because some of the coffee drinks take longer than others.  I had the cold coffee coffee, food and foods and we shared a pop+art!  The po+art was strawberry; light and fluffy on the outside and gooey sweet filling on the inside.  The food and foods wasn't the standard so expect different, complex and interesting flavors from the accompanying slaw and sauce.  I thoroughly enjoyed it but, the food was a bit bland and maybe could have used a bit of honey to spruce it up.  The coffee here is spot on and I hear that their hot chocolate is the bomb but, I will have to wait for the weather to cool off to try that.  A great place to be vibe and chat with your friends, a date or read a book. food and foods Pop tart Coffee See all photos from parkingmela S. for The Factory - Cafe With a Soul",
         "4.0"
        ],
        [
         "3",
         "The Factory - Cafe With a Soul",
         "11/25/2016 Very cool vibe! Good drinks Nice seating  However...  Just about everything is bad price. $1.50 extra for 3 ounces of Almond Milk in a coffee. No WiFi vibe is a bit loud and the mix is odd.  Pleasant French oldies followed by loud techno. Several seatings were dirty when we got there. Service is average.  It feels like a Los Angeles coffee shot that is out of place.",
         "2.0"
        ],
        [
         "4",
         "The Factory - Cafe With a Soul",
         "12/3/2016 1 check-in They are location within the Northcross mall shopping center facing east toward Burnet Rd with plenty of parking. I loved their computerized user friendly ordering system, it made it easy me to pick & choose all the items I wanted to try. I ordered pop tart, food & foods, strawberry foods (photos uploaded). This place is ideal for ordering a few dishes to share with your group. seatinging is limited since this place is fairly new with lots of visitors. Arrive early and be prepared to wait a bit if you with a large grop. Store front facing Burnet Rd See all photos from Michelle A. for The Factory - Cafe With a Soul",
         "4.0"
        ]
       ],
       "shape": {
        "columns": 3,
        "rows": 5
       }
      },
      "text/html": [
       "<div>\n",
       "<style scoped>\n",
       "    .dataframe tbody tr th:only-of-type {\n",
       "        vertical-align: middle;\n",
       "    }\n",
       "\n",
       "    .dataframe tbody tr th {\n",
       "        vertical-align: top;\n",
       "    }\n",
       "\n",
       "    .dataframe thead th {\n",
       "        text-align: right;\n",
       "    }\n",
       "</style>\n",
       "<table border=\"1\" class=\"dataframe\">\n",
       "  <thead>\n",
       "    <tr style=\"text-align: right;\">\n",
       "      <th></th>\n",
       "      <th>coffee_shop_name</th>\n",
       "      <th>review_text</th>\n",
       "      <th>num_rating</th>\n",
       "    </tr>\n",
       "  </thead>\n",
       "  <tbody>\n",
       "    <tr>\n",
       "      <th>0</th>\n",
       "      <td>The Factory - Cafe With a Soul</td>\n",
       "      <td>11/25/2016 1 check-in Love love loved the vibe...</td>\n",
       "      <td>5.0</td>\n",
       "    </tr>\n",
       "    <tr>\n",
       "      <th>1</th>\n",
       "      <td>The Factory - Cafe With a Soul</td>\n",
       "      <td>12/2/2016 Listed in Date Night: Austin, vibe i...</td>\n",
       "      <td>4.0</td>\n",
       "    </tr>\n",
       "    <tr>\n",
       "      <th>2</th>\n",
       "      <td>The Factory - Cafe With a Soul</td>\n",
       "      <td>11/30/2016 1 check-in Listed in food seating I...</td>\n",
       "      <td>4.0</td>\n",
       "    </tr>\n",
       "    <tr>\n",
       "      <th>3</th>\n",
       "      <td>The Factory - Cafe With a Soul</td>\n",
       "      <td>11/25/2016 Very cool vibe! Good drinks Nice se...</td>\n",
       "      <td>2.0</td>\n",
       "    </tr>\n",
       "    <tr>\n",
       "      <th>4</th>\n",
       "      <td>The Factory - Cafe With a Soul</td>\n",
       "      <td>12/3/2016 1 check-in They are location within ...</td>\n",
       "      <td>4.0</td>\n",
       "    </tr>\n",
       "  </tbody>\n",
       "</table>\n",
       "</div>"
      ],
      "text/plain": [
       "                 coffee_shop_name  \\\n",
       "0  The Factory - Cafe With a Soul   \n",
       "1  The Factory - Cafe With a Soul   \n",
       "2  The Factory - Cafe With a Soul   \n",
       "3  The Factory - Cafe With a Soul   \n",
       "4  The Factory - Cafe With a Soul   \n",
       "\n",
       "                                         review_text  num_rating  \n",
       "0  11/25/2016 1 check-in Love love loved the vibe...         5.0  \n",
       "1  12/2/2016 Listed in Date Night: Austin, vibe i...         4.0  \n",
       "2  11/30/2016 1 check-in Listed in food seating I...         4.0  \n",
       "3  11/25/2016 Very cool vibe! Good drinks Nice se...         2.0  \n",
       "4  12/3/2016 1 check-in They are location within ...         4.0  "
      ]
     },
     "execution_count": 8,
     "metadata": {},
     "output_type": "execute_result"
    }
   ],
   "source": [
    "reviews = df[['coffee_shop_name', 'review_text', 'num_rating']]\n",
    "\n",
    "# remove trailing whitespace from the coffee shop names and reviews\n",
    "reviews['coffee_shop_name'] = reviews['coffee_shop_name'].str.strip()\n",
    "reviews['review_text'] = reviews['review_text'].str.strip()\n",
    "\n",
    "reviews['num_rating'] = reviews['num_rating'].astype(float)\n",
    "\n",
    "reviews.head()"
   ]
  },
  {
   "cell_type": "code",
   "execution_count": 9,
   "id": "f9a82b92",
   "metadata": {},
   "outputs": [
    {
     "name": "stdout",
     "output_type": "stream",
     "text": [
      "{'coffee_shop_name': 'The Factory - Cafe With a Soul', 'review_text': '11/25/2016 1 check-in Love love loved the vibe! Every corner of the coffee shop had its own style, and there were swings!!! I ordered the matcha coffee, and it was muy fantastico! Ordering and getting my drink were pretty streamlined. I ordered on an iPad, which included all beverage selections that ranged from coffee to alcohol, desired level of sweetness, and a checkout system. I got my coffee within minutes!  I was hoping for a typical heart or feather on my coffee, but found myself listing out all the possibilities of what the vibe may be. Any ideas?', 'num_rating': 5.0}\n",
      "{'coffee_shop_name': 'The Factory - Cafe With a Soul', 'review_text': '12/2/2016 Listed in Date Night: Austin, vibe in Austin BEAUTIFUL!!!! Love the vibe! Instagram-worthy!!!  Definitely $$$, so be prepared. This is gonna cost you a pretty penny :) food food was just decent...nothing to rave about.  But, will probably be back just to be somewhere unique and nice.', 'num_rating': 4.0}\n",
      "{'coffee_shop_name': 'The Factory - Cafe With a Soul', 'review_text': \"11/30/2016 1 check-in Listed in food seating I loved the eclectic and homey plush vibe and who doesn't want to swing and drink their coffee?  I would categorize this as a pricier coffee place but, to me it was worth it.  After Thanksgiving nobody wants to make food so we headed out in search of food and foods.  There is ample parking in the private lot and  ordering is done through I-Pads.  Pick a seating and they will call your name when your items are ready.  Be patient because some of the coffee drinks take longer than others.  I had the cold coffee coffee, food and foods and we shared a pop+art!  The po+art was strawberry; light and fluffy on the outside and gooey sweet filling on the inside.  The food and foods wasn't the standard so expect different, complex and interesting flavors from the accompanying slaw and sauce.  I thoroughly enjoyed it but, the food was a bit bland and maybe could have used a bit of honey to spruce it up.  The coffee here is spot on and I hear that their hot chocolate is the bomb but, I will have to wait for the weather to cool off to try that.  A great place to be vibe and chat with your friends, a date or read a book. food and foods Pop tart Coffee See all photos from parkingmela S. for The Factory - Cafe With a Soul\", 'num_rating': 4.0}\n",
      "{'coffee_shop_name': 'The Factory - Cafe With a Soul', 'review_text': '11/25/2016 Very cool vibe! Good drinks Nice seating  However...  Just about everything is bad price. $1.50 extra for 3 ounces of Almond Milk in a coffee. No WiFi vibe is a bit loud and the mix is odd.  Pleasant French oldies followed by loud techno. Several seatings were dirty when we got there. Service is average.  It feels like a Los Angeles coffee shot that is out of place.', 'num_rating': 2.0}\n",
      "{'coffee_shop_name': 'The Factory - Cafe With a Soul', 'review_text': '12/3/2016 1 check-in They are location within the Northcross mall shopping center facing east toward Burnet Rd with plenty of parking. I loved their computerized user friendly ordering system, it made it easy me to pick & choose all the items I wanted to try. I ordered pop tart, food & foods, strawberry foods (photos uploaded). This place is ideal for ordering a few dishes to share with your group. seatinging is limited since this place is fairly new with lots of visitors. Arrive early and be prepared to wait a bit if you with a large grop. Store front facing Burnet Rd See all photos from Michelle A. for The Factory - Cafe With a Soul', 'num_rating': 4.0}\n"
     ]
    }
   ],
   "source": [
    "records = reviews.to_dict(orient='records')\n",
    "\n",
    "# show the first 5 records\n",
    "for record in records[:5]:\n",
    "    print(record)"
   ]
  },
  {
   "cell_type": "code",
   "execution_count": 2,
   "id": "b76624ad",
   "metadata": {},
   "outputs": [],
   "source": [
    "config = dotenv_values('.env')\n",
    "\n",
    "# Connect to MongoDB\n",
    "client = MongoClient(config['ATLAS_URI'])\n",
    "db = client[config['DB_NAME']]"
   ]
  },
  {
   "cell_type": "code",
   "execution_count": 10,
   "id": "b5da36cb",
   "metadata": {},
   "outputs": [
    {
     "name": "stdout",
     "output_type": "stream",
     "text": [
      "Inserted 7616 records into the database.\n"
     ]
    }
   ],
   "source": [
    "collection = db['reviews']\n",
    "\n",
    "# Drop the collection if it exists\n",
    "collection.drop()\n",
    "\n",
    "# Create the collection\n",
    "collection = db.create_collection('reviews')\n",
    "\n",
    "result = collection.insert_many(records)\n",
    "\n",
    "print(f\"Inserted {len(result.inserted_ids)} records into the database.\")"
   ]
  },
  {
   "cell_type": "code",
   "execution_count": 11,
   "id": "0b8cb671",
   "metadata": {},
   "outputs": [
    {
     "data": {
      "text/plain": [
       "'coffee_shop_id_1'"
      ]
     },
     "execution_count": 11,
     "metadata": {},
     "output_type": "execute_result"
    }
   ],
   "source": [
    "collection.create_index(\"coffee_shop_id\")"
   ]
  },
  {
   "cell_type": "code",
   "execution_count": 15,
   "id": "d8cc198e",
   "metadata": {},
   "outputs": [
    {
     "name": "stdout",
     "output_type": "stream",
     "text": [
      "Reviews updated with coffee_shop_id field\n"
     ]
    }
   ],
   "source": [
    "# Add coffee_shop_id to reviews\n",
    "coffee_shops = {doc['name']: ObjectId(doc['_id']) for doc in db['coffee_shops'].find({}, {'_id': 1, 'name': 1})}\n",
    "\n",
    "# Update all review documents to include the coffee_shop_id\n",
    "for review in collection.find():\n",
    "    shop_name = review['coffee_shop_name']\n",
    "    if shop_name in coffee_shops:\n",
    "        collection.update_one(\n",
    "            {'_id': review['_id']},\n",
    "            {'$set': {'coffee_shop_id': coffee_shops[shop_name]}}\n",
    "        )\n",
    "\n",
    "print(\"Reviews updated with coffee_shop_id field\")"
   ]
  },
  {
   "cell_type": "code",
   "execution_count": 29,
   "id": "175ba767",
   "metadata": {},
   "outputs": [
    {
     "name": "stdout",
     "output_type": "stream",
     "text": [
      "Inserted 78 coffee shops into the database.\n",
      "\n",
      "Sample coffee shop document:\n",
      "{'_id': ObjectId('67fc7a1f8000455dfec4ddaa'), 'name': 'The Factory - Cafe With a Soul', 'location': {'area': 'Downtown', 'address': '310 W Wisconsin Ave', 'city': 'Milwaukee', 'state': 'WI', 'coordinates': {'lat': 43.042394, 'lng': -87.922401}}, 'features': ['Parking Available', 'Food Options', 'Friendly Service', 'Comfortable Seating', 'Serves Alcohol', 'Tea Selection', 'Extended Hours'], 'rating': 4.4, 'review_count': 244}\n"
     ]
    }
   ],
   "source": [
    "# Create a new DataFrame for coffee shops with required schema fields\n",
    "shops_data = []\n",
    "\n",
    "# Get all unique coffee shop names\n",
    "unique_shops = df['coffee_shop_name'].unique()\n",
    "\n",
    "# Dictionary of Milwaukee neighborhoods to use for mock locations\n",
    "milwaukee_areas = [\n",
    "    {\"area\": \"Downtown\", \"address\": \"310 W Wisconsin Ave\"},\n",
    "    {\"area\": \"Third Ward\", \"address\": \"400 N Water St\"},\n",
    "    {\"area\": \"Bay View\", \"address\": \"2301 S Kinnickinnic Ave\"},\n",
    "    {\"area\": \"East Side\", \"address\": \"1800 N Farwell Ave\"},\n",
    "    {\"area\": \"Riverwest\", \"address\": \"701 E Center St\"},\n",
    "    {\"area\": \"Walker's Point\", \"address\": \"605 S 5th St\"},\n",
    "    {\"area\": \"Washington Heights\", \"address\": \"5900 W North Ave\"},\n",
    "    {\"area\": \"Historic Mitchell Street\", \"address\": \"1101 W Mitchell St\"},\n",
    "    {\"area\": \"Harbor District\", \"address\": \"600 E Greenfield Ave\"},\n",
    "    {\"area\": \"Marquette\", \"address\": \"1442 W Wells St\"}\n",
    "]\n",
    "\n",
    "# Common coffee shop features to extract from sentiment data\n",
    "feature_mapping = {\n",
    "    'wifi': {'col': 'internet_sent', 'threshold': 0, 'name': 'Free WiFi'},\n",
    "    'parking': {'col': 'parking_sent', 'threshold': 0, 'name': 'Parking Available'},\n",
    "    'food': {'col': 'food_sent', 'threshold': 0, 'name': 'Food Options'},\n",
    "    'vibe': {'col': 'vibe_sent', 'threshold': 1, 'name': 'Great Atmosphere'},\n",
    "    'service': {'col': 'service_sent', 'threshold': 0, 'name': 'Friendly Service'},\n",
    "    'seating': {'col': 'seating_sent', 'threshold': 0, 'name': 'Comfortable Seating'},\n",
    "    'price': {'col': 'price_sent', 'threshold': 0, 'name': 'Reasonable Prices'},\n",
    "    'alcohol': {'col': 'alcohol_sent', 'threshold': 0, 'name': 'Serves Alcohol'},\n",
    "    'tea': {'col': 'tea_sent', 'threshold': 0, 'name': 'Tea Selection'},\n",
    "    'hours': {'col': 'hours_sent', 'threshold': 0, 'name': 'Extended Hours'},\n",
    "    'local': {'col': 'local_sent', 'threshold': 0, 'name': 'Locally Owned'},\n",
    "    'coffee': {'col': 'coffee_sent', 'threshold': 1, 'name': 'Quality Coffee'}\n",
    "}\n",
    "\n",
    "# For each coffee shop, create a document with name, location, and features\n",
    "for shop_name in unique_shops:\n",
    "    # Get all reviews for this shop\n",
    "    shop_reviews = df[df['coffee_shop_name'] == shop_name]\n",
    "    \n",
    "    # Randomly select a location for this coffee shop\n",
    "    location = random.choice(milwaukee_areas)\n",
    "    \n",
    "    # Extract features based on sentiment analysis in reviews\n",
    "    features = []\n",
    "    \n",
    "    for feature, config in feature_mapping.items():\n",
    "        # Calculate average sentiment for this feature\n",
    "        if config['col'] in shop_reviews.columns:\n",
    "            # Ensure the column is numeric before calculating the mean\n",
    "            avg_sentiment = pd.to_numeric(shop_reviews[config['col']], errors='coerce').mean()\n",
    "            # If the average sentiment is above the threshold, add this feature\n",
    "            if avg_sentiment > config['threshold'] and not np.isnan(avg_sentiment):\n",
    "                features.append(config['name'])\n",
    "    \n",
    "    # Add some randomness to features to make the data more interesting\n",
    "    if random.random() < 0.3:\n",
    "        features.append(\"Outdoor Seating\")\n",
    "    if random.random() < 0.2:\n",
    "        features.append(\"Study Friendly\")\n",
    "    if random.random() < 0.15:\n",
    "        features.append(\"Pet Friendly\")\n",
    "    if random.random() < 0.1:\n",
    "        features.append(\"Live Music\")\n",
    "    \n",
    "    # Create the document\n",
    "    shop_doc = {\n",
    "        'name': shop_name.strip(),\n",
    "        'location': {\n",
    "            'area': location['area'],\n",
    "            'address': location['address'],\n",
    "            'city': 'Milwaukee',\n",
    "            'state': 'WI',\n",
    "            'coordinates': {\n",
    "                'lat': round(43.04 + random.uniform(-0.05, 0.05), 6),  # Milwaukee area coordinates\n",
    "                'lng': round(-87.91 + random.uniform(-0.05, 0.05), 6)\n",
    "            }\n",
    "        },\n",
    "        'features': features,\n",
    "        'rating': round(shop_reviews['num_rating'].mean(), 1) if 'num_rating' in shop_reviews else None,\n",
    "        'review_count': len(shop_reviews)\n",
    "    }\n",
    "    \n",
    "    shops_data.append(shop_doc)\n",
    "\n",
    "# Create or update the coffee_shops collection\n",
    "coffee_shops_collection = db['coffee_shops']\n",
    "coffee_shops_collection.drop()  # Drop if exists\n",
    "result = coffee_shops_collection.insert_many(shops_data)\n",
    "\n",
    "print(f\"Inserted {len(result.inserted_ids)} coffee shops into the database.\")\n",
    "\n",
    "# Display a sample coffee shop document\n",
    "print(\"\\nSample coffee shop document:\")\n",
    "print(coffee_shops_collection.find_one())"
   ]
  },
  {
   "cell_type": "code",
   "execution_count": null,
   "id": "9c9038ac",
   "metadata": {},
   "outputs": [
    {
     "name": "stdout",
     "output_type": "stream",
     "text": [
      "\n",
      "Sample coffee shop document datatypes:\n",
      "_id: <class 'bson.objectid.ObjectId'>\n",
      "name: <class 'str'>\n",
      "location: <class 'dict'>\n",
      "features: <class 'list'>\n",
      "rating: <class 'float'>\n",
      "review_count: <class 'int'>\n"
     ]
    }
   ],
   "source": [
    "collection = db['coffee_shops']\n",
    "\n",
    "# print the datatypes of a result document\n",
    "sample_doc = collection.find_one()\n",
    "print(\"\\nSample coffee shop document datatypes:\")\n",
    "for key, value in sample_doc.items():\n",
    "    print(f\"{key}: {type(value)}\")"
   ]
  },
  {
   "cell_type": "code",
   "execution_count": null,
   "id": "9a5381a8",
   "metadata": {},
   "outputs": [],
   "source": [
    "# "
   ]
  }
 ],
 "metadata": {
  "kernelspec": {
   "display_name": ".venv",
   "language": "python",
   "name": "python3"
  },
  "language_info": {
   "codemirror_mode": {
    "name": "ipython",
    "version": 3
   },
   "file_extension": ".py",
   "mimetype": "text/x-python",
   "name": "python",
   "nbconvert_exporter": "python",
   "pygments_lexer": "ipython3",
   "version": "3.13.2"
  }
 },
 "nbformat": 4,
 "nbformat_minor": 5
}
